{
 "cells": [
  {
   "cell_type": "markdown",
   "id": "82503791",
   "metadata": {},
   "source": [
    "# Thực hành nhập xuất dữ liệu và String"
   ]
  },
  {
   "cell_type": "markdown",
   "id": "60287ee1",
   "metadata": {},
   "source": [
    "## Bài 1\n",
    "Viết chương trình nhập vào 2 số nguyên `num1` và `num2`. In ra tích của 2 số nguyên đó."
   ]
  },
  {
   "cell_type": "markdown",
   "id": "c5d85e59",
   "metadata": {},
   "source": [
    "Workflow:"
   ]
  },
  {
   "cell_type": "code",
   "execution_count": 14,
   "id": "0b766812",
   "metadata": {},
   "outputs": [
    {
     "name": "stdin",
     "output_type": "stream",
     "text": [
      "nhap vao so nguyen thu nhat: 5\n",
      "nhap vao so nguyen thu hai: 6\n"
     ]
    },
    {
     "name": "stdout",
     "output_type": "stream",
     "text": [
      "tich cua hai so nguyen la: 30\n",
      "5*6=30\n"
     ]
    }
   ],
   "source": [
    "so_nguyen_1=int(input(\"nhap vao so nguyen thu nhat:\"))\n",
    "so_nguyen_2=int(input(\"nhap vao so nguyen thu hai:\"))\n",
    "tich_so=(so_nguyen_1)*(so_nguyen_2)\n",
    "print(\"tich cua hai so nguyen la:\",tich_so)\n",
    "print(f\"{so_nguyen_1}*{so_nguyen_2}={tich_so}\")"
   ]
  },
  {
   "cell_type": "markdown",
   "id": "89dda208",
   "metadata": {},
   "source": [
    "## Bài 2\n",
    "Viết chương trình nhập vào `name`(tên) của người dùng. In ra nội dung sau: \"Hello --name--\"\n",
    "\n",
    "Ví dụ:\n",
    "name = \"Long\"\n",
    "\n",
    "Kết quả in ra sẽ là:\n",
    "\"Hello Long\""
   ]
  },
  {
   "cell_type": "markdown",
   "id": "88b6254e",
   "metadata": {},
   "source": [
    "Workflow:\n"
   ]
  },
  {
   "cell_type": "code",
   "execution_count": 15,
   "id": "d6000627",
   "metadata": {},
   "outputs": [
    {
     "name": "stdin",
     "output_type": "stream",
     "text": [
      "nhap vao ten cua ban: hai\n"
     ]
    },
    {
     "name": "stdout",
     "output_type": "stream",
     "text": [
      "Hello hai\n",
      "hello hai\n"
     ]
    }
   ],
   "source": [
    "name=input(\"nhap vao ten cua ban:\")\n",
    "print(\"Hello\",name)\n",
    "print(f\"hello {name}\")"
   ]
  },
  {
   "cell_type": "markdown",
   "id": "a5073d2f",
   "metadata": {},
   "source": [
    "## Bài 3\n",
    "Viết chương trình nhập vào 2 số nguyên num1 và num2. In ra thương của 2 số nguyên đó (làm tròn 2 chữ số thập phân)."
   ]
  },
  {
   "cell_type": "markdown",
   "id": "36d7f695",
   "metadata": {},
   "source": [
    "Workflow:"
   ]
  },
  {
   "cell_type": "code",
   "execution_count": 17,
   "id": "f03e79c5",
   "metadata": {},
   "outputs": [
    {
     "name": "stdin",
     "output_type": "stream",
     "text": [
      "nhap vao so nguyen thu nhat: 10\n",
      "nhap vao so nguyen thu hai: 3\n"
     ]
    },
    {
     "name": "stdout",
     "output_type": "stream",
     "text": [
      "thuong cua hai so nguyen la: 3.33\n",
      "10/3=3.33\n"
     ]
    }
   ],
   "source": [
    "so_nguyen_1=int(input(\"nhap vao so nguyen thu nhat:\"))\n",
    "so_nguyen_2=int(input(\"nhap vao so nguyen thu hai:\"))\n",
    "thuong_so=round((so_nguyen_1)/(so_nguyen_2),2)\n",
    "print(\"thuong cua hai so nguyen la:\",thuong_so)\n",
    "print(f\"{so_nguyen_1}/{so_nguyen_2}={thuong_so}\")"
   ]
  },
  {
   "cell_type": "code",
   "execution_count": null,
   "id": "0e81fcf2-935d-4a19-968f-8c66c2979164",
   "metadata": {},
   "outputs": [],
   "source": []
  }
 ],
 "metadata": {
  "kernelspec": {
   "display_name": "Python 3 (ipykernel)",
   "language": "python",
   "name": "python3"
  },
  "language_info": {
   "codemirror_mode": {
    "name": "ipython",
    "version": 3
   },
   "file_extension": ".py",
   "mimetype": "text/x-python",
   "name": "python",
   "nbconvert_exporter": "python",
   "pygments_lexer": "ipython3",
   "version": "3.11.4"
  }
 },
 "nbformat": 4,
 "nbformat_minor": 5
}
