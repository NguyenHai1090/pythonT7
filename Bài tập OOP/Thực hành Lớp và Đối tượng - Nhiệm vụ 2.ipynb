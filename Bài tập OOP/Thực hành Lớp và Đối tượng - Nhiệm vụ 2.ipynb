{
 "cells": [
  {
   "cell_type": "code",
   "execution_count": null,
   "id": "1b7705b3",
   "metadata": {},
   "outputs": [],
   "source": [
    "\"\"\"\n",
    "Viết class NhanVien gồm các thuộc tính:\n",
    "+ Tên\n",
    "+ Tuổi\n",
    "+ Địa chỉ\n",
    "+ Tiền lương\n",
    "+ Tổng số giờ làm\n",
    "\n",
    "Và các phương thức:\n",
    "- Phương thức __init__()\n",
    "- print_info() : In ra tất cả các thông tin của nhân viên\n",
    "- tinh_thuong(): Tính toán và trả về số tiền thưởng của nhân viên theo công thức sau:\n",
    "Nếu tổng số giờ làm của nhân viên >=200 thì thưởng = lương * 20%\n",
    "Nếu tổng số giờ làm của nhân viên <200 và >=100 thì thưởng = lương * 10%\n",
    "Nếu tổng số giờ làm của nhân viên <100 thì thưởng = 0\n",
    "\"\"\""
   ]
  },
  {
   "cell_type": "code",
   "execution_count": 8,
   "id": "3cf0f41d",
   "metadata": {},
   "outputs": [],
   "source": [
    "class Nhanvien:\n",
    "    def __init__(self,name,age,address,salary,working_hours):\n",
    "        self.name=name\n",
    "        self.age=age\n",
    "        self.address=address\n",
    "        self.salary=salary\n",
    "        self.working_hours=working_hours\n",
    "    def print_info(self):\n",
    "        print(f\"Ho va ten:{self.name}\")\n",
    "        print(f\"Tuoi:{self.age}\")\n",
    "        print(f\"Dia chi:{self.address}\")\n",
    "        print(f\"Muc luong:{self.salary}\")\n",
    "        print(f\"So gio lam viec:{self.working_hours}\")\n",
    "    def bonus(self):\n",
    "        if self.working_hours>=200:\n",
    "            print(f\" Tien Thuong: {self.salary*0.2}\")\n",
    "        elif self.working_hours>=100:\n",
    "            print(f\" Tien Thuong: {self.salary*0.1}\")\n",
    "        else: print(f\"Tien Thuong: 0\")"
   ]
  },
  {
   "cell_type": "code",
   "execution_count": 9,
   "id": "298f78d3-7f2b-4d8c-8b09-29da18fc3372",
   "metadata": {},
   "outputs": [
    {
     "name": "stdout",
     "output_type": "stream",
     "text": [
      "Ho va ten:Nguyen Ngoc Hai\n",
      "Tuoi:27\n",
      "Dia chi:Ha Noi\n",
      "Muc luong:10000\n",
      "So gio lam viec:300\n",
      " Tien Thuong: 2000.0\n"
     ]
    }
   ],
   "source": [
    "nv1=Nhanvien(\"Nguyen Ngoc Hai\",27,\"Ha Noi\",10000,300)\n",
    "nv1.print_info()\n",
    "nv1.bonus()"
   ]
  },
  {
   "cell_type": "code",
   "execution_count": null,
   "id": "6f2fc0c2-8407-4ad5-8b14-a1ed5a1999b6",
   "metadata": {},
   "outputs": [],
   "source": []
  }
 ],
 "metadata": {
  "kernelspec": {
   "display_name": "Python 3 (ipykernel)",
   "language": "python",
   "name": "python3"
  },
  "language_info": {
   "codemirror_mode": {
    "name": "ipython",
    "version": 3
   },
   "file_extension": ".py",
   "mimetype": "text/x-python",
   "name": "python",
   "nbconvert_exporter": "python",
   "pygments_lexer": "ipython3",
   "version": "3.11.4"
  }
 },
 "nbformat": 4,
 "nbformat_minor": 5
}
