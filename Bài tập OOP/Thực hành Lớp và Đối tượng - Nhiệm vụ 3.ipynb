{
 "cells": [
  {
   "cell_type": "code",
   "execution_count": null,
   "id": "a42fa0c7",
   "metadata": {},
   "outputs": [],
   "source": [
    "\"\"\"\n",
    "Tạo class có tên Equation gồm có các thuộc tính và phương thức sau:\n",
    "+ Thuộc tính: number1, number2\n",
    "+ Phương thức:\n",
    "- Phương thức tạo __init()__\n",
    "- print_info(): dùng để hiển thị number1, number2\n",
    "- addition(): dùng để cộng number1, number2\n",
    "- subtract(): trừ number1, number2\n",
    "- multi(): dùng để nhân number1, number2\n",
    "- division(): dùng để chia number1, number2.\n",
    "\n",
    "Sau khi tạo class, khởi tạo một object Equation và in ra kết quả tính toán từ các hàm thực hiện phép tính\n",
    "\"\"\""
   ]
  },
  {
   "cell_type": "code",
   "execution_count": 11,
   "id": "d271563c-24df-45a8-8d1c-5cb75cb7b844",
   "metadata": {},
   "outputs": [],
   "source": [
    "class Equation:\n",
    "    def __init__(self,number1,number2):\n",
    "        self.number1=number1\n",
    "        self.number2=number2\n",
    "    def print_info(self):\n",
    "        print(f\"number1: {self.number1},number2: {self.number2}\")\n",
    "    def addition(self):\n",
    "        print(f\" Phep tinh tong: {self.number1} + {self.number2}= {self.number1+self.number2}\")\n",
    "    def subtract(self):\n",
    "        print(f\" Phep tinh hieu: {self.number1} - {self.number2}= {self.number1-self.number2}\")\n",
    "    def multi(self):\n",
    "        print(f\" Phep tinh nhan: {self.number1} x {self.number2}= {self.number1*self.number2}\") \n",
    "    def division(self):\n",
    "        print(f\" Phep tinh chia: {self.number1} : {self.number2}= {self.number1/self.number2}\")    "
   ]
  },
  {
   "cell_type": "code",
   "execution_count": 12,
   "id": "38fad33a-fe56-4fe3-b0be-7f75dd38ae0d",
   "metadata": {},
   "outputs": [
    {
     "name": "stdout",
     "output_type": "stream",
     "text": [
      "number1: 10,number2: 2\n",
      " Phep tinh tong: 10 + 2= 12\n",
      " Phep tinh hieu: 10 - 2= 8\n",
      " Phep tinh nhan: 10 x 2= 20\n",
      " Phep tinh chia: 10 : 2= 5.0\n"
     ]
    }
   ],
   "source": [
    "oe1=Equation(10,2)\n",
    "oe1.print_info()\n",
    "oe1.addition()\n",
    "oe1.subtract()\n",
    "oe1.multi()\n",
    "oe1.division()"
   ]
  },
  {
   "cell_type": "code",
   "execution_count": null,
   "id": "522a8806-84e2-49da-a82c-89369187f461",
   "metadata": {},
   "outputs": [],
   "source": []
  }
 ],
 "metadata": {
  "kernelspec": {
   "display_name": "Python 3 (ipykernel)",
   "language": "python",
   "name": "python3"
  },
  "language_info": {
   "codemirror_mode": {
    "name": "ipython",
    "version": 3
   },
   "file_extension": ".py",
   "mimetype": "text/x-python",
   "name": "python",
   "nbconvert_exporter": "python",
   "pygments_lexer": "ipython3",
   "version": "3.11.4"
  }
 },
 "nbformat": 4,
 "nbformat_minor": 5
}
